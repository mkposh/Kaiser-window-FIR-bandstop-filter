{
 "cells": [
  {
   "cell_type": "code",
   "execution_count": null,
   "metadata": {},
   "outputs": [],
   "source": [
    "import numpy as np\n",
    "import matplotlib.pyplot as plt\n",
    "from scipy import signal\n",
    "from scipy.signal import chirp\n",
    "from matplotlib import patches,rcParams"
   ]
  },
  {
   "cell_type": "markdown",
   "metadata": {},
   "source": [
    "## 창 길이 결정, 저지대역 감쇠, 베타 값 계산, 시퀀스 측"
   ]
  },
  {
   "cell_type": "code",
   "execution_count": null,
   "metadata": {},
   "outputs": [],
   "source": [
    "def zplane(b,a):\n",
    "    ax = plt.subplot(111)\n",
    "    uc = patches.Circle((0, 0), radius = 1, fill=False, color='black', ls='dashed')\n",
    "    ax.add_patch(uc)\n",
    "    if np.max(b) > 1:\n",
    "        kn = np.max(b)\n",
    "        b = b/float(kn)"
   ]
  },
  {
   "cell_type": "code",
   "execution_count": null,
   "metadata": {},
   "outputs": [],
   "source": [
    "M = 45\n",
    "As = 50\n",
    "beta = 0.1102*(As-8.7)\n",
    "nt = np.arange(0, M)"
   ]
  },
  {
   "cell_type": "markdown",
   "metadata": {},
   "source": [
    "## 하위 및 상위 차단주파수, 임펄스 응답, 카이저 창 함수, 유한 임펄스 응답"
   ]
  },
  {
   "cell_type": "code",
   "execution_count": null,
   "metadata": {},
   "outputs": [],
   "source": [
    "Omega_c1 = np.pi/3; Omega_c2 = np.pi*2/3"
   ]
  },
  {
   "cell_type": "code",
   "execution_count": null,
   "metadata": {
    "scrolled": true
   },
   "outputs": [],
   "source": [
    "Omega_c1, Omega_c2"
   ]
  },
  {
   "cell_type": "code",
   "execution_count": null,
   "metadata": {},
   "outputs": [],
   "source": [
    "hd = ideal_lp(Omega_c1, M)+(ideal_lp(np.pi, M)-ideal_lp(Omega_c2,M))\n",
    "wn = signal.kaiser(M,beta)\n",
    "hn = hd*wn"
   ]
  },
  {
   "cell_type": "markdown",
   "metadata": {},
   "source": [
    "## 오류가 계속 발생하네"
   ]
  },
  {
   "cell_type": "code",
   "execution_count": null,
   "metadata": {},
   "outputs": [],
   "source": [
    "nf, H = signal.freqz(hn)\n",
    "H_dB = 20*np.log10(abs(H))\n"
   ]
  },
  {
   "cell_type": "code",
   "execution_count": null,
   "metadata": {},
   "outputs": [],
   "source": [
    "plt.subplot(3,1,1); plt.stem(nt, hn, \"b\"); plt.grid()\n",
    "plt.ylabel(\"h(n)\"); plt.xlabel(\"n\"); plt.xlim(0,M-1)\n",
    "plt.title(\"Impulse response, Frequency response, Frequency filtering result\")"
   ]
  },
  {
   "cell_type": "code",
   "execution_count": null,
   "metadata": {},
   "outputs": [],
   "source": [
    "plt.subplot(3, 1, 2); plt.plot(nf/np.pi, H_dB, \"b\"); plt.grid(); plt.xlim(0,2)\n",
    "plt.xlabel(\"Frequency in pi radians\"); plt.ylabel(\"Magnitude [dB]\")"
   ]
  },
  {
   "cell_type": "code",
   "execution_count": null,
   "metadata": {},
   "outputs": [],
   "source": [
    "t=np.linspace(0, 1, 5000)\n",
    "xn = chirp(t,f0=10, t1=0.2, f1=500, method = \"Linear\")\n",
    "yn=np.convolve(hn,xn)\n",
    "plt.subplot(3,1,3); plt.plot(yn,\"b\"); plt.xlim(0,5000)\n",
    "plt.xlabel(\"Samples(Frequency(0~500[Hz]))\"); plt.grid()"
   ]
  }
 ],
 "metadata": {
  "kernelspec": {
   "display_name": "Python 3",
   "language": "python",
   "name": "python3"
  },
  "language_info": {
   "codemirror_mode": {
    "name": "ipython",
    "version": 3
   },
   "file_extension": ".py",
   "mimetype": "text/x-python",
   "name": "python",
   "nbconvert_exporter": "python",
   "pygments_lexer": "ipython3",
   "version": "3.8.3"
  }
 },
 "nbformat": 4,
 "nbformat_minor": 4
}
